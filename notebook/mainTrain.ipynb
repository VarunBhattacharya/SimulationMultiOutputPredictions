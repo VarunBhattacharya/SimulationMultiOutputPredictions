{
 "cells": [
  {
   "cell_type": "markdown",
   "id": "ae6ea373-b10b-48dc-898e-e835f8a32eed",
   "metadata": {},
   "source": [
    "### Import Libraries"
   ]
  },
  {
   "cell_type": "code",
   "execution_count": null,
   "id": "5683e7f7-4455-4f2b-a6dc-a1fbdbd4d703",
   "metadata": {},
   "outputs": [],
   "source": [
    "import numpy as np\n",
    "import pandas as pd\n",
    "import matplotlib.pyplot as plt\n",
    "\n",
    "from sklearn.preprocessing import MinMaxScaler\n",
    "from sklearn.model_selection import train_test_split\n",
    "from sklearn.neural_network import MLPRegressor\n",
    "from sklearn.metrics import mean_squared_error, mean_absolute_error, r2_score\n",
    "\n",
    "from collections import OrderedDict\n",
    "\n",
    "import joblib\n",
    "import h5py"
   ]
  },
  {
   "cell_type": "markdown",
   "id": "5ca44969-6b8e-4d50-b1f3-98947176f3cf",
   "metadata": {},
   "source": [
    "### Load Data"
   ]
  },
  {
   "cell_type": "code",
   "execution_count": null,
   "id": "52a2609e-81fd-43a4-ac94-333638456a64",
   "metadata": {},
   "outputs": [],
   "source": [
    "df = pd.read_csv(\"trainData.csv\")\n",
    "df.head()"
   ]
  },
  {
   "cell_type": "markdown",
   "id": "fd125370-7d68-4940-90f1-a7020f80dcfb",
   "metadata": {},
   "source": [
    "### Understand Data"
   ]
  },
  {
   "cell_type": "code",
   "execution_count": null,
   "id": "723bc337-b0bd-4be6-85f4-4ddf98cf4888",
   "metadata": {},
   "outputs": [],
   "source": [
    "df.describe()"
   ]
  },
  {
   "cell_type": "markdown",
   "id": "647971db-f952-410d-9b6f-4a7b34edbdac",
   "metadata": {},
   "source": [
    "### Feature Extraction"
   ]
  },
  {
   "cell_type": "code",
   "execution_count": null,
   "id": "1a59ca93-2443-4e98-988f-7384c69f7809",
   "metadata": {},
   "outputs": [],
   "source": [
    "df.columns"
   ]
  },
  {
   "cell_type": "code",
   "execution_count": null,
   "id": "2fd81e51-2f60-45b7-b78a-715c45b3fb90",
   "metadata": {},
   "outputs": [],
   "source": [
    "df.drop(df.iloc[:, 0:3], axis = 1, inplace = True)\n",
    "df.rename(columns = {'Factor 1 A:Current (I)': 'Current (I)', 'Factor 2 B:Voltage (V)': 'Voltage (V)', 'Factor 3 C:Pulse ON ti': 'Pulse On Time', 'Factor 4 D:Duty Factor': 'Duty Factor'}, inplace = True)"
   ]
  },
  {
   "cell_type": "code",
   "execution_count": null,
   "id": "8d08edbf-caf3-4179-bcee-fdc8eac86c8d",
   "metadata": {},
   "outputs": [],
   "source": [
    "df.head()"
   ]
  },
  {
   "cell_type": "code",
   "execution_count": null,
   "id": "9625c14e-169d-4943-95ae-daf30f962cdc",
   "metadata": {},
   "outputs": [],
   "source": [
    "df.columns"
   ]
  },
  {
   "cell_type": "code",
   "execution_count": null,
   "id": "e961c293-b590-4b07-91a5-c9e2cdcd7a8e",
   "metadata": {},
   "outputs": [],
   "source": [
    "df.describe()"
   ]
  },
  {
   "cell_type": "markdown",
   "id": "3e1743fb-78d3-4b7c-8f95-4acb914f8312",
   "metadata": {},
   "source": [
    "### Plot Input Data"
   ]
  },
  {
   "cell_type": "code",
   "execution_count": null,
   "id": "54762e94-420b-45f0-9a53-ae2748488052",
   "metadata": {},
   "outputs": [],
   "source": [
    "dfTranspose = df.transpose()\n",
    "dfTranspose.head()"
   ]
  },
  {
   "cell_type": "code",
   "execution_count": null,
   "id": "e93a4eb6-e5a1-4485-9f4e-4cb1f5be1d31",
   "metadata": {},
   "outputs": [],
   "source": [
    "df.shape"
   ]
  },
  {
   "cell_type": "code",
   "execution_count": null,
   "id": "b6b1f4ac-fbf9-436c-a46b-93a986f58756",
   "metadata": {},
   "outputs": [],
   "source": [
    "dfTranspose.shape"
   ]
  },
  {
   "cell_type": "code",
   "execution_count": null,
   "id": "e2dfd371-43e9-4880-b260-74e3f20cf958",
   "metadata": {},
   "outputs": [],
   "source": [
    "fig, axs = plt.subplots(4, 3, figsize = (12,9))\n",
    "\n",
    "axs[0,0].plot([int(i) for i in range(1, 114)], df['MRR'], marker = 'o')\n",
    "#plt.grid(True)\n",
    "axs[0,0].set_xlabel('Current')\n",
    "axs[0,0].set_ylabel('MRR')\n",
    "\n",
    "axs[0,1].plot([int(i) for i in range(1, 114)], df['TWR'], marker = 'o')\n",
    "#plt.grid(True)\n",
    "axs[0,1].set_xlabel('Current')\n",
    "axs[0,1].set_ylabel('TWR')\n",
    "\n",
    "axs[0,2].plot([int(i) for i in range(1, 114)], df['Residual stresses'], marker = 'o')\n",
    "#plt.grid(True)\n",
    "axs[0,2].set_xlabel('Current')\n",
    "axs[0,2].set_ylabel('Residual stresses')\n",
    "\n",
    "\n",
    "axs[1,0].plot([int(i) for i in range(1, 114)], df['MRR'], marker = 'o')\n",
    "#plt.grid(True)\n",
    "axs[1,0].set_xlabel('Voltage')\n",
    "axs[1,0].set_ylabel('MRR')\n",
    "\n",
    "axs[1,1].plot([int(i) for i in range(1, 114)], df['TWR'], marker = 'o')\n",
    "#plt.grid(True)\n",
    "axs[1,1].set_xlabel('Voltage')\n",
    "axs[1,1].set_ylabel('TWR')\n",
    "\n",
    "axs[1,2].plot([int(i) for i in range(1, 114)], df['Residual stresses'], marker = 'o')\n",
    "#plt.grid(True)\n",
    "axs[1,2].set_xlabel('Voltage')\n",
    "axs[1,2].set_ylabel('Residual stresses')\n",
    "\n",
    "\n",
    "axs[2,0].plot([int(i) for i in range(1, 114)], df['MRR'], marker = 'o')\n",
    "#plt.grid(True)\n",
    "axs[2,0].set_xlabel('Pulse On Time')\n",
    "axs[2,0].set_ylabel('MRR')\n",
    "\n",
    "axs[2,1].plot([int(i) for i in range(1, 114)], df['TWR'], marker = 'o')\n",
    "#plt.grid(True)\n",
    "axs[2,1].set_xlabel('Pulse On Time')\n",
    "axs[2,1].set_ylabel('TWR')\n",
    "\n",
    "axs[2,2].plot([int(i) for i in range(1, 114)], df['Residual stresses'], marker = 'o')\n",
    "#plt.grid(True)\n",
    "axs[2,2].set_xlabel('Pulse On Time')\n",
    "axs[2,2].set_ylabel('Residual stresses')\n",
    "\n",
    "\n",
    "axs[3,0].plot([int(i) for i in range(1, 114)], df['MRR'], marker = 'o')\n",
    "#plt.grid(True)\n",
    "axs[3,0].set_xlabel('DutyFactor')\n",
    "axs[3,0].set_ylabel('MRR')\n",
    "\n",
    "axs[3,1].plot([int(i) for i in range(1, 114)], df['TWR'], marker = 'o')\n",
    "#plt.grid(True)\n",
    "axs[3,1].set_xlabel('DutyFactor')\n",
    "axs[3,1].set_ylabel('TWR')\n",
    "\n",
    "axs[3,2].plot([int(i) for i in range(1, 114)], df['Residual stresses'], marker = 'o')\n",
    "#plt.grid(True)\n",
    "axs[3,2].set_xlabel('DutyFactor')\n",
    "axs[3,2].set_ylabel('Residual stresses')\n",
    "\n",
    "\n",
    "fig.tight_layout()\n",
    "fig.suptitle('Features vs Output Comparison', fontsize=14, fontweight='bold', ha='center', va='bottom')\n",
    "plt.show()"
   ]
  },
  {
   "cell_type": "markdown",
   "id": "a6c8fc8a-e5e5-4ad8-9bb1-0a2bf757197c",
   "metadata": {},
   "source": [
    "### Data Preparation"
   ]
  },
  {
   "cell_type": "code",
   "execution_count": null,
   "id": "e5aed7a0-52f7-4e8b-a76c-ae1a2a705dec",
   "metadata": {},
   "outputs": [],
   "source": [
    "df.head()"
   ]
  },
  {
   "cell_type": "code",
   "execution_count": null,
   "id": "ac47fb5a-468a-49e4-b151-bd37b42fa6c7",
   "metadata": {},
   "outputs": [],
   "source": [
    "X = df.drop(df.iloc[:, 4:], axis = 1)\n",
    "y = df.drop(df.iloc[:, 0:4], axis = 1)"
   ]
  },
  {
   "cell_type": "code",
   "execution_count": null,
   "id": "f12b06ce-c51c-4d97-8160-b4d7bc808510",
   "metadata": {},
   "outputs": [],
   "source": [
    "print(f\"Input Shape: {X.shape} and Output Shape: {y.shape}.\")"
   ]
  },
  {
   "cell_type": "code",
   "execution_count": null,
   "id": "c1cbd9dd-3720-416f-8f16-b0028922b65a",
   "metadata": {},
   "outputs": [],
   "source": [
    "X_train, X_test, y_train, y_test = train_test_split(X, y, train_size = 0.8, random_state = 2)\n",
    "print(f\"Train Shapes: X_train: {X_train.shape}, y_train: {y_train.shape}.\\n\"\n",
    "     f\"Test Shapes: X_test: {X_test.shape}, y_test: {y_test.shape}.\")"
   ]
  },
  {
   "cell_type": "code",
   "execution_count": null,
   "id": "51023599-96e5-441d-b509-31ed938d6f33",
   "metadata": {},
   "outputs": [],
   "source": [
    "#using scaler\n",
    "'''\n",
    "scaler = MinMaxScaler()\n",
    "scaler.fit(X_train)\n",
    "'''"
   ]
  },
  {
   "cell_type": "code",
   "execution_count": null,
   "id": "7b54d868-061b-485a-9a41-15e26980f0f2",
   "metadata": {},
   "outputs": [],
   "source": [
    "'''\n",
    "X_train1 = scaler.transform(X_train)\n",
    "X_test1 = scaler.transform(X_test)\n",
    "print(f\"Scaler Transformation shapes: X_train1: {X_train1.shape}, X_test1: {X_test1.shape}.\")\n",
    "'''"
   ]
  },
  {
   "cell_type": "markdown",
   "id": "3eeb38c4-b30b-4901-aad7-45b42aa2a74c",
   "metadata": {},
   "source": [
    "### Model Building"
   ]
  },
  {
   "cell_type": "code",
   "execution_count": null,
   "id": "38bf401a-fced-443d-91b4-dd74223f8e3b",
   "metadata": {},
   "outputs": [],
   "source": [
    "neuralNet = MLPRegressor(\n",
    "    hidden_layer_sizes = (400, 850, 150),\n",
    "    activation = \"relu\",\n",
    "    solver = \"lbfgs\",\n",
    "    max_iter = 10000,\n",
    "    verbose = True,\n",
    "    momentum = 0.9,\n",
    "    learning_rate_init = 0.01,\n",
    "    learning_rate = \"adaptive\",\n",
    "    early_stopping = True\n",
    ")"
   ]
  },
  {
   "cell_type": "code",
   "execution_count": null,
   "id": "63f2ae2d-705c-468a-b49c-ad90065bc418",
   "metadata": {},
   "outputs": [],
   "source": [
    "neuralNet?"
   ]
  },
  {
   "cell_type": "code",
   "execution_count": null,
   "id": "7c7f6101-e942-4994-83c1-e47a803f0b12",
   "metadata": {},
   "outputs": [],
   "source": [
    "neuralNet.fit(X_train, y_train) #convergence at iteration 6763 for solver lbfgs"
   ]
  },
  {
   "cell_type": "markdown",
   "id": "496053a1-dcf0-4e6a-ac87-43c1d001b2af",
   "metadata": {},
   "source": [
    "### Save Model Weights"
   ]
  },
  {
   "cell_type": "code",
   "execution_count": null,
   "id": "926faebf-e1c4-4cff-b3c9-f693361aff7f",
   "metadata": {},
   "outputs": [],
   "source": [
    "#save model weights\n",
    "#joblib.dump(neuralNet, 'modelWeightsCustom1.pkl')"
   ]
  },
  {
   "cell_type": "markdown",
   "id": "7d467e2b-8c12-4f05-b3af-8608bc13c292",
   "metadata": {},
   "source": [
    "### Prediction Checks"
   ]
  },
  {
   "cell_type": "code",
   "execution_count": null,
   "id": "1b95ccc0-114d-4c1b-a1cd-83ef44e7e9c0",
   "metadata": {},
   "outputs": [],
   "source": [
    "y_pred = neuralNet.predict(X_test1)\n",
    "y_pred"
   ]
  },
  {
   "cell_type": "code",
   "execution_count": null,
   "id": "0b890a7a-e942-47c7-bb00-d11248a61506",
   "metadata": {},
   "outputs": [],
   "source": [
    "dfPred1 = pd.DataFrame({'Actual MRR': y_test.to_numpy()[0], 'Predicted MRR': y_pred[0]})\n",
    "dfPred2 = pd.DataFrame({'Actual TWR': y_test.to_numpy()[1], 'Predicted TWR': y_pred[1]})\n",
    "dfPred3 = pd.DataFrame({'Actual Residual stresses': y_test.to_numpy()[2], 'Predicted Residual stresses': y_pred[2]})"
   ]
  },
  {
   "cell_type": "code",
   "execution_count": null,
   "id": "d7bfdee2-decc-4f1a-b18c-d40925f79a94",
   "metadata": {},
   "outputs": [],
   "source": [
    "dfPred1"
   ]
  },
  {
   "cell_type": "code",
   "execution_count": null,
   "id": "6958fd0f-dcf3-486d-87c8-7c70951500ba",
   "metadata": {},
   "outputs": [],
   "source": [
    "dfPred2"
   ]
  },
  {
   "cell_type": "code",
   "execution_count": null,
   "id": "25da81b6-7237-4f8b-a285-42a44587437d",
   "metadata": {},
   "outputs": [],
   "source": [
    "dfPred3"
   ]
  },
  {
   "cell_type": "code",
   "execution_count": null,
   "id": "3951a718-8982-486c-9b58-862e4fdb68b0",
   "metadata": {},
   "outputs": [],
   "source": [
    "def findAvg(l1, l2):\n",
    "    tempSum = 0\n",
    "    for i in range(len(l1)):\n",
    "        temp = abs(l1[i] - l2[i])\n",
    "        tempSum += temp\n",
    "    return tempSum / len(l1)\n",
    "\n",
    "yActual = list(y_test.to_numpy())\n",
    "y_Predicted = list(y_pred)\n",
    "\n",
    "print(findAvg(yActual, y_Predicted))"
   ]
  },
  {
   "cell_type": "markdown",
   "id": "34e010a4-aca3-4c6b-a81d-db8f1b0b3b71",
   "metadata": {},
   "source": [
    "### Visualize"
   ]
  },
  {
   "cell_type": "code",
   "execution_count": null,
   "id": "fe021157-fccb-45ab-9575-7b0a40124db4",
   "metadata": {},
   "outputs": [],
   "source": [
    "dfPred1.plot.density(x = 'Actual MRR', y = 'Predicted MRR', title = 'Density (KDE) plot between actual and predicted values')"
   ]
  },
  {
   "cell_type": "code",
   "execution_count": null,
   "id": "b5d30ee6-2aa5-4526-a1a0-192a168f419b",
   "metadata": {},
   "outputs": [],
   "source": [
    "dfPred2.plot.density(x = 'Actual TWR', y = 'Predicted TWR', title = 'Density (KDE) plot between actual and predicted values')"
   ]
  },
  {
   "cell_type": "code",
   "execution_count": null,
   "id": "216a06f6-85f4-4f34-a17d-80987e7453df",
   "metadata": {},
   "outputs": [],
   "source": [
    "dfPred3.plot.density(x = 'Actual Residual stresses', y = 'Predicted Residual stresses', title = 'Density (KDE) plot between actual and predicted values')"
   ]
  },
  {
   "cell_type": "code",
   "execution_count": null,
   "id": "05d7c1e0-ee12-434f-ab4b-a9d696b17d50",
   "metadata": {},
   "outputs": [],
   "source": [
    "fig, axs = plt.subplots(2, 3, figsize = (12,9))\n",
    "\n",
    "axs[0,0].plot([int(i) for i in range(1, 4)], dfPred1['Actual MRR'], marker = 'o')\n",
    "axs[0,0].plot([int(i) for i in range(1, 4)], dfPred1['Predicted MRR'], marker = 'o')\n",
    "#plt.grid(True)\n",
    "axs[0,0].set_xlabel('MRR')\n",
    "axs[0,0].set_ylabel('MRR')\n",
    "\n",
    "axs[0,1].plot([int(i) for i in range(1, 4)], dfPred2['Actual TWR'], marker = 'o')\n",
    "axs[0,1].plot([int(i) for i in range(1, 4)], dfPred2['Predicted TWR'], marker = 'o')\n",
    "#plt.grid(True)\n",
    "axs[0,1].set_xlabel('TWR')\n",
    "axs[0,1].set_ylabel('TWR')\n",
    "\n",
    "axs[0,2].plot([int(i) for i in range(1, 4)], dfPred3['Actual Residual stresses'], marker = 'o')\n",
    "axs[0,2].plot([int(i) for i in range(1, 4)], dfPred3['Predicted Residual stresses'], marker = 'o')\n",
    "#plt.grid(True)\n",
    "axs[0,2].set_xlabel('Residual stresses')\n",
    "axs[0,2].set_ylabel('Residual stresses')\n",
    "\n",
    "fig.delaxes(axs[1, 0])\n",
    "fig.delaxes(axs[1, 1])\n",
    "fig.delaxes(axs[1, 2])\n",
    "\n",
    "fig.tight_layout()\n",
    "fig.suptitle('Actual vs Predicted Value Comparison', fontsize=14, fontweight='bold', ha='center', va='bottom')\n",
    "plt.show()"
   ]
  },
  {
   "cell_type": "markdown",
   "id": "b97f6d82-e927-46e8-8e2a-98a1ea13bc06",
   "metadata": {},
   "source": [
    "### Metrics Check"
   ]
  },
  {
   "cell_type": "code",
   "execution_count": null,
   "id": "ab0946fe-e690-4d55-866b-950a621b587e",
   "metadata": {},
   "outputs": [],
   "source": [
    "mse = mean_squared_error(y_train, neuralNet.predict(X_train))\n",
    "mae = mean_absolute_error(y_train, neuralNet.predict(X_train))\n",
    "r2s = r2_score(y_train, neuralNet.predict(X_train))\n",
    "print(f\"MSE: {mse}, MAE: {mae}, R2S: {r2s}.\")"
   ]
  },
  {
   "cell_type": "code",
   "execution_count": null,
   "id": "1ab2fd2d-785e-4ba6-b1ed-5e473d9948c1",
   "metadata": {},
   "outputs": [],
   "source": [
    "neuralNet.score(X_test, y_test)"
   ]
  },
  {
   "cell_type": "code",
   "execution_count": null,
   "id": "31b6ac1b-4b92-478e-9adc-4a8133416810",
   "metadata": {},
   "outputs": [],
   "source": [
    "neuralNet.loss_"
   ]
  },
  {
   "cell_type": "code",
   "execution_count": null,
   "id": "5582a7f7-590e-4132-9b60-4fce9c3df89d",
   "metadata": {},
   "outputs": [],
   "source": [
    "#pd.DataFrame(neuralNet.loss_curve_).plot() #applicable for sgd or adam"
   ]
  },
  {
   "cell_type": "markdown",
   "id": "b437f2a8-829b-4e33-81c7-9e1c4358c714",
   "metadata": {},
   "source": [
    "### Critical Dimension Analysis"
   ]
  },
  {
   "cell_type": "code",
   "execution_count": null,
   "id": "909ce7c9-344a-4762-af1c-a0e5cfabf36f",
   "metadata": {},
   "outputs": [],
   "source": [
    "#Critical Dimension\n",
    "impFeatures = neuralNet.coefs_\n",
    "impFeatures = np.array(impFeatures[0])\n",
    "impFeatures = np.sum(impFeatures, axis = 1)\n",
    "impFeatures = list(impFeatures)\n",
    "#impFeatures\n",
    "\n",
    "hashMap = {}\n",
    "for i, j in enumerate(impFeatures):\n",
    "    hashMap[f'Dim {i+1}'] = j\n",
    "#hashMap\n",
    "\n",
    "customKeys = ['Current', 'Voltage', 'PulseOnTime', 'DutyFactor']\n",
    "hashMap = dict(zip(customKeys, hashMap.values()))\n",
    "#hashMap\n",
    "    \n",
    "sortedHashMap = dict(sorted(hashMap.items(), key = lambda item: item[1]))\n",
    "sortedHashMap = OrderedDict(reversed(list(sortedHashMap.items())))\n",
    "#sortedHashMap\n",
    "\n",
    "print(f\"The most critical dimension for this problem is: {next(iter(sortedHashMap))}.\")"
   ]
  },
  {
   "cell_type": "markdown",
   "id": "3337d6e9-eea4-4820-803a-a35fabd206f4",
   "metadata": {},
   "source": [
    "#### ---------------------------------------------------------------------------------------------------------------------------------------------------"
   ]
  }
 ],
 "metadata": {
  "kernelspec": {
   "display_name": "Python 3 (ipykernel)",
   "language": "python",
   "name": "python3"
  },
  "language_info": {
   "codemirror_mode": {
    "name": "ipython",
    "version": 3
   },
   "file_extension": ".py",
   "mimetype": "text/x-python",
   "name": "python",
   "nbconvert_exporter": "python",
   "pygments_lexer": "ipython3",
   "version": "3.8.10"
  }
 },
 "nbformat": 4,
 "nbformat_minor": 5
}
