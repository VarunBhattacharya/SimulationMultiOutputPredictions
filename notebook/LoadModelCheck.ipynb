{
 "cells": [
  {
   "cell_type": "code",
   "execution_count": null,
   "id": "be181d22-927a-4766-a183-6803768d98f7",
   "metadata": {},
   "outputs": [],
   "source": [
    "import joblib\n",
    "import numpy as np\n",
    "import pandas as pd"
   ]
  },
  {
   "cell_type": "code",
   "execution_count": null,
   "id": "90d6d964-e1b4-4807-9937-91bcfe5b9323",
   "metadata": {},
   "outputs": [],
   "source": [
    "model = joblib.load(\"modelWeightsSolverLBFGS.pkl\")"
   ]
  },
  {
   "cell_type": "code",
   "execution_count": null,
   "id": "b7ca56e1-4ea6-49ef-9107-58c9e6999b69",
   "metadata": {},
   "outputs": [],
   "source": [
    "df = pd.read_csv(\"trainData.csv\")\n",
    "df.head()"
   ]
  },
  {
   "cell_type": "code",
   "execution_count": null,
   "id": "bb5c8b57-be05-47cc-9c61-c707683cfd4f",
   "metadata": {},
   "outputs": [],
   "source": [
    "df.drop(df.iloc[:, 0:3], axis = 1, inplace = True)\n",
    "df.rename(columns = {'Factor 1 A:Current (I)': 'Current (I)', 'Factor 2 B:Voltage (V)': 'Voltage (V)', 'Factor 3 C:Pulse ON ti': 'Pulse On Time', 'Factor 4 D:Duty Factor': 'Duty Factor'}, inplace = True)"
   ]
  },
  {
   "cell_type": "code",
   "execution_count": null,
   "id": "400d957c-000d-4715-8f05-1da90e351961",
   "metadata": {},
   "outputs": [],
   "source": [
    "df.head()"
   ]
  },
  {
   "cell_type": "code",
   "execution_count": null,
   "id": "a1534d7a-6071-4523-b98c-93776143d19a",
   "metadata": {},
   "outputs": [],
   "source": [
    "X = df.drop(df.iloc[:, 4:], axis = 1)"
   ]
  },
  {
   "cell_type": "code",
   "execution_count": null,
   "id": "0f7f2e5f-69e8-4323-96bb-b73842f5b841",
   "metadata": {},
   "outputs": [],
   "source": [
    "X.head()"
   ]
  },
  {
   "cell_type": "code",
   "execution_count": null,
   "id": "19f1e73d-28bf-4a70-8eeb-00f5c6baccbf",
   "metadata": {},
   "outputs": [],
   "source": [
    "X.shape"
   ]
  },
  {
   "cell_type": "code",
   "execution_count": null,
   "id": "4c3165f7-5951-4752-a2cd-61ec32c1eaf2",
   "metadata": {},
   "outputs": [],
   "source": [
    "cols = ['MRR', 'TWR', 'Residual Stresses']\n",
    "y = model.predict(X)\n",
    "yConvert = pd.DataFrame(data = y, columns = cols)\n",
    "yConvert.head()"
   ]
  },
  {
   "cell_type": "code",
   "execution_count": null,
   "id": "6f03758d-830c-4a57-b911-f452fa0b1dea",
   "metadata": {},
   "outputs": [],
   "source": [
    "yConvert.shape"
   ]
  },
  {
   "cell_type": "code",
   "execution_count": null,
   "id": "8d635d1a-c247-4097-9985-64879bfcb979",
   "metadata": {},
   "outputs": [],
   "source": [
    "finalPredData = pd.merge(X, yConvert, left_index = True, right_index = True)\n",
    "finalPredData.head()"
   ]
  },
  {
   "cell_type": "code",
   "execution_count": null,
   "id": "b8844488-abe5-4369-8de9-868bdec6fd6d",
   "metadata": {},
   "outputs": [],
   "source": [
    "finalPredData.to_csv('PredictionOnTrainData.csv')"
   ]
  },
  {
   "cell_type": "code",
   "execution_count": null,
   "id": "b68b969f-908a-4b34-a964-268dd22c3f3a",
   "metadata": {},
   "outputs": [],
   "source": []
  }
 ],
 "metadata": {
  "kernelspec": {
   "display_name": "Python 3 (ipykernel)",
   "language": "python",
   "name": "python3"
  },
  "language_info": {
   "codemirror_mode": {
    "name": "ipython",
    "version": 3
   },
   "file_extension": ".py",
   "mimetype": "text/x-python",
   "name": "python",
   "nbconvert_exporter": "python",
   "pygments_lexer": "ipython3",
   "version": "3.8.10"
  }
 },
 "nbformat": 4,
 "nbformat_minor": 5
}
